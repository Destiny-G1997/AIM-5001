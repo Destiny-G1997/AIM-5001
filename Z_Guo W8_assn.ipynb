{
 "cells": [
  {
   "cell_type": "markdown",
   "metadata": {},
   "source": [
    "# W8 Assignment Regular Expressions"
   ]
  },
  {
   "cell_type": "markdown",
   "metadata": {},
   "source": [
    "**Q1:** \n",
    "```\n",
    "Extract the names of each individual from the unformatted text string and store them in a vector of somesort. When complete, your vector should contain the following entries:\n",
    "\n",
    "\"Moe Szyslak\" \"Burns, C. Montgomery\" \"Rev. Timothy Lovejoy\"\n",
    "\"Ned Flanders\" \"Simpson,Homer\" \"Dr. Julius Hibbert\"\n",
    "```"
   ]
  },
  {
   "cell_type": "code",
   "execution_count": 1,
   "metadata": {},
   "outputs": [
    {
     "data": {
      "text/plain": [
       "['Moe Szyslak',\n",
       " 'Burns, C. Montgomery',\n",
       " 'Rev. Timothy Lovejoy',\n",
       " 'Ned Flanders',\n",
       " 'Simpson, Homer',\n",
       " 'Dr. Julius Hibbert']"
      ]
     },
     "execution_count": 1,
     "metadata": {},
     "output_type": "execute_result"
    }
   ],
   "source": [
    "import re\n",
    "import pandas as pd\n",
    "Text = \"555-1239Moe Szyslak(636) 555-0113Burns, C. Montgomery555 -6542Rev. Timothy Lovejoy555 8904Ned Flanders636-555-3226Simpson, Homer5553642Dr. Julius Hibbert\"\n",
    "pattern = '[A-Z][a-zA-Z\\s\\,\\.]+[A-z]'# The first part is 'A-z' ,',', and'.'. The second part is 'A-z'\n",
    "regex = re.compile(pattern)\n",
    "Text1 = regex.findall(Text)\n",
    "Text1"
   ]
  },
  {
   "cell_type": "markdown",
   "metadata": {},
   "source": [
    "**Q2:** \n",
    "```\n",
    "Using your new vector containing only the names of the six individuals, complete the following tasks:  \n",
    "    a. (4 Points) Use your regex skills to rearrange the vector so that all elements conform to the standard “firstname lastname”, preserving any titles (e.g., “Rev.”, “Dr.”, etc) or middle/second names.  \n",
    "```   \n",
    "    "
   ]
  },
  {
   "cell_type": "code",
   "execution_count": 2,
   "metadata": {},
   "outputs": [
    {
     "data": {
      "text/plain": [
       "['Moe Szyslak',\n",
       " 'Montgomery C. Burns',\n",
       " 'Rev. Timothy Lovejoy',\n",
       " 'Ned Flanders',\n",
       " 'Homer Simpson',\n",
       " 'Dr. Julius Hibbert']"
      ]
     },
     "execution_count": 2,
     "metadata": {},
     "output_type": "execute_result"
    }
   ],
   "source": [
    "pattern_mn = '([\\w]+),\\s([\\w.]+)\\s([\\w]+)'# Pattern of the middle name\n",
    "regex_mn = re.compile(pattern_mn)\n",
    "pattern_fln = '([\\w]+),\\s([\\w]+)'# Pattern of the first name and last name\n",
    "regex_fln = re.compile(pattern_fln)\n",
    "standard_name = []# The final list\n",
    "for name in Text1:# put all name in loop\n",
    "    x = name.find(\",\") # x means name with ','\n",
    "    if x > 0: # if name includes ',' that means the name 's oreder is \"last name, first name\"\n",
    "        i = re.split('\\s+',name)# i means the name whose lens are 2\n",
    "        j = re.split(',+',name)#j means the name that includes a comma\n",
    "        if len(i) > 2:# if the name's lens are more than 2\n",
    "            y = regex_mn.findall(name)\n",
    "            if len(y) > 0:\n",
    "                n = y[0][2]+ ' '+ y[0][1] + ' ' + y[0][0]# change the name's order.\n",
    "                standard_name.append(n)\n",
    "        elif len(j)>1:#if the name that doesn't have a middle name has a comma\n",
    "            y = regex_fln.findall(name)# Find(last name,first name)\n",
    "            if len(y) > 0:\n",
    "                n = y[0][1] + ' ' + y[0][0] # Change name order to (first name, last name)\n",
    "                standard_name.append(n)\n",
    "    else:\n",
    "        standard_name.append(name)\n",
    "standard_name"
   ]
  },
  {
   "cell_type": "markdown",
   "metadata": {},
   "source": [
    " b. (4 Points) Construct a logical vector indicating whether a character has a title (i.e., Rev. and Dr.).  "
   ]
  },
  {
   "cell_type": "code",
   "execution_count": 3,
   "metadata": {},
   "outputs": [
    {
     "data": {
      "text/plain": [
       "0             Moe Szyslak\n",
       "1     Montgomery C. Burns\n",
       "2    Rev. Timothy Lovejoy\n",
       "3            Ned Flanders\n",
       "4           Homer Simpson\n",
       "5      Dr. Julius Hibbert\n",
       "dtype: object"
      ]
     },
     "execution_count": 3,
     "metadata": {},
     "output_type": "execute_result"
    }
   ],
   "source": [
    "df_b = pd.Series(standard_name)# change the 'standear_name' to pandas series\n",
    "df_b"
   ]
  },
  {
   "cell_type": "code",
   "execution_count": 4,
   "metadata": {},
   "outputs": [
    {
     "data": {
      "text/plain": [
       "0    False\n",
       "1    False\n",
       "2     True\n",
       "3    False\n",
       "4    False\n",
       "5     True\n",
       "dtype: bool"
      ]
     },
     "execution_count": 4,
     "metadata": {},
     "output_type": "execute_result"
    }
   ],
   "source": [
    "df_b.str.contains('Dr.|Rev.')# check which data has a title"
   ]
  },
  {
   "cell_type": "markdown",
   "metadata": {},
   "source": [
    "c. (4 Points) Construct a logical vector indicating whether a character has a middle/second name."
   ]
  },
  {
   "cell_type": "code",
   "execution_count": 5,
   "metadata": {},
   "outputs": [
    {
     "data": {
      "text/plain": [
       "0    False\n",
       "1     True\n",
       "2    False\n",
       "3    False\n",
       "4    False\n",
       "5    False\n",
       "dtype: bool"
      ]
     },
     "execution_count": 5,
     "metadata": {},
     "output_type": "execute_result"
    }
   ],
   "source": [
    "pattern_check = ' [A-z]{1}\\.'# For this pattern the first part is a ' '(space), second part is 'A-z'\n",
    "                             #, the third part is '.', and the last part is a ' '(space)\n",
    "df_b.str.contains(pattern_check)"
   ]
  },
  {
   "cell_type": "markdown",
   "metadata": {},
   "source": [
    "**Q3:** \n",
    "```\n",
    "Consider the HTML string <title>+++BREAKING NEWS+++<title>. We would like to extract the first HTML tag\n",
    "(i.e., “<title>”). To do so we write the regular expression “<.+>”. Explain why this fails and correct the expression.\n",
    "```"
   ]
  },
  {
   "cell_type": "code",
   "execution_count": 6,
   "metadata": {},
   "outputs": [
    {
     "data": {
      "text/plain": [
       "['<title>+++BREAKING NEWS+++<title>']"
      ]
     },
     "execution_count": 6,
     "metadata": {},
     "output_type": "execute_result"
    }
   ],
   "source": [
    "Html = '<title>+++BREAKING NEWS+++<title>'\n",
    "pattern_h = '<.+>'\n",
    "regex = re.compile(pattern_h,flags = re.IGNORECASE)\n",
    "regex.findall(Html)"
   ]
  },
  {
   "cell_type": "markdown",
   "metadata": {},
   "source": [
    "**For the <.+>:**  \n",
    "The first character is <  \n",
    "The . matches any character except for the newline character    \n",
    "'+' Matches one or more expressions.  \n",
    "The Last character is >  \n",
    "So the <.+> cna matches any string that starting with a '<'and ending wiht a '>'."
   ]
  },
  {
   "cell_type": "markdown",
   "metadata": {},
   "source": [
    "**Fix:**  \n",
    "<[A-z]+>"
   ]
  },
  {
   "cell_type": "code",
   "execution_count": 13,
   "metadata": {},
   "outputs": [
    {
     "data": {
      "text/plain": [
       "['<title>', '<title>']"
      ]
     },
     "execution_count": 13,
     "metadata": {},
     "output_type": "execute_result"
    }
   ],
   "source": [
    "pattern_h2 = '<[A-z]+>'# matches any charachter\n",
    "regex = re.compile(pattern_h2, flags = re.IGNORECASE)\n",
    "cr = regex.findall(Html)# get the correct result\n",
    "cr"
   ]
  },
  {
   "cell_type": "code",
   "execution_count": 15,
   "metadata": {},
   "outputs": [
    {
     "name": "stdout",
     "output_type": "stream",
     "text": [
      "<title>\n"
     ]
    }
   ],
   "source": [
    "if len(regex.findall(Html)) > 0:\n",
    "    print(cr[0])# print the first HTML tag"
   ]
  },
  {
   "cell_type": "markdown",
   "metadata": {},
   "source": [
    "**Q4:**\n",
    "```\n",
    " Consider the string “(5-3)^2=5^2-2*5*3+3^2” conforms to the binomial theorem. We would like to extract the formula in the string. To do so we write the regular expression “[^0-9=+*()]+”. Explain why this fails and correct the expression.\n",
    "\n",
    "```"
   ]
  },
  {
   "cell_type": "code",
   "execution_count": 8,
   "metadata": {},
   "outputs": [
    {
     "data": {
      "text/plain": [
       "['-', '^', '^', '-', '^']"
      ]
     },
     "execution_count": 8,
     "metadata": {},
     "output_type": "execute_result"
    }
   ],
   "source": [
    "formula = '(5-3)^2=5^2-2*5*3+3^2'\n",
    "pattern_f = '[^0-9 = +*()]+' # For this pattern on the left of '=' are 0-9 and '^', and on the right of\n",
    "                             # '=' are '+', '*', and '()'\n",
    "regex = re.compile(pattern_f, flags = re.IGNORECASE)\n",
    "regex.findall(formula)"
   ]
  },
  {
   "cell_type": "markdown",
   "metadata": {},
   "source": [
    "The first character in set is ^. So all the characters that are not in this set matched. '[^0-9=+*()]' failed because the ^ means a character^. So we can try to add a '-' and move the ^ 's position to fix this pattern.\n",
    "'[0-9\\ ^()*+-=]+'"
   ]
  },
  {
   "cell_type": "code",
   "execution_count": 9,
   "metadata": {},
   "outputs": [
    {
     "data": {
      "text/plain": [
       "['(5-3)^2=5^2-2*5*3+3^2']"
      ]
     },
     "execution_count": 9,
     "metadata": {},
     "output_type": "execute_result"
    }
   ],
   "source": [
    "pattern_f2 = '[0-9\\^()*+-=]+'\n",
    "regex = re.compile(pattern_f2, flags = re.IGNORECASE)\n",
    "regex.findall(formula)# get the correct result"
   ]
  },
  {
   "cell_type": "code",
   "execution_count": null,
   "metadata": {},
   "outputs": [],
   "source": []
  }
 ],
 "metadata": {
  "kernelspec": {
   "display_name": "Python 3",
   "language": "python",
   "name": "python3"
  },
  "language_info": {
   "codemirror_mode": {
    "name": "ipython",
    "version": 3
   },
   "file_extension": ".py",
   "mimetype": "text/x-python",
   "name": "python",
   "nbconvert_exporter": "python",
   "pygments_lexer": "ipython3",
   "version": "3.8.3"
  }
 },
 "nbformat": 4,
 "nbformat_minor": 4
}
