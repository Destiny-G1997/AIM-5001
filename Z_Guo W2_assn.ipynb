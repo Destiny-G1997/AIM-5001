{
 "cells": [
  {
   "cell_type": "code",
   "execution_count": 1,
   "metadata": {
    "scrolled": true
   },
   "outputs": [],
   "source": [
    "import csv\n",
    "# be sure to update the path below to reflect your own environment!!\n",
    "# also be sure that the code is properly indented after you paste it!\n",
    "with open(r'C:\\Users\\guozi\\Documents\\GitHub\\AIM-5001/cars-sample35.txt') as csvfile:\n",
    "    readCSV = csv.reader(csvfile)\n",
    "    for row in readCSV:\n",
    " # print each row as read by the csv.reader function\n",
    "         print(row)"
   ]
  },
  {
   "cell_type": "markdown",
   "metadata": {},
   "source": [
    "# Q1"
   ]
  },
  {
   "cell_type": "code",
   "execution_count": 2,
   "metadata": {
    "scrolled": false
   },
   "outputs": [],
   "source": [
    "import csv\n",
    "# be sure to update the path below to reflect your own environment!!\n",
    "# also be sure that the code is properly indented after you paste it!\n",
    "with open(r'C:\\Users\\guozi\\Documents\\GitHub\\AIM-5001/cars-sample35.txt') as csvfile:\n",
    "    readCSV = csv.reader(csvfile)\n",
    "    Price=[]\n",
    "    Maintenace_cost=[]\n",
    "    Number_of_doors=[]\n",
    "    Number_of_passengers=[]\n",
    "    Luggage_capacity=[]\n",
    "    Safety_rating=[]\n",
    "    Classification_of_vehicle=[]\n",
    "    for row in readCSV:\n",
    "        Price.append(row[0]) # Extract the first row of the file\n",
    "        Maintenace_cost.append(row[1])# Extract the second row of the file\n",
    "        Number_of_doors.append(row[2])# Extract the third row of the file\n",
    "        Number_of_passengers.append(row[3])# Extract forth first row of the file\n",
    "        Luggage_capacity.append(row[4])# Extract the fifth row of the file\n",
    "        Safety_rating.append(row[5])# Extract the sixth row of the file\n",
    "        Classification_of_vehicle.append(row[6])# Extract the last row of the file\n",
    "    print(Price)\n",
    "        \n",
    "            \n",
    "            \n",
    "        "
   ]
  },
  {
   "cell_type": "markdown",
   "metadata": {},
   "source": [
    "# Q2"
   ]
  },
  {
   "cell_type": "code",
   "execution_count": 3,
   "metadata": {},
   "outputs": [
    {
     "name": "stdout",
     "output_type": "stream",
     "text": [
      "[6, 16, 20, 23, 26, 29]\n"
     ]
    }
   ],
   "source": [
    "import csv\n",
    "# be sure to update the path below to reflect your own environment!!\n",
    "# also be sure that the code is properly indented after you paste it!\n",
    "with open(r'C:\\Users\\guozi\\Documents\\GitHub\\AIM-5001/cars-sample35.txt') as csvfile:\n",
    "    readCSV = csv.reader(csvfile)\n",
    "    Price=[]\n",
    "    Maintenace_cost=[]\n",
    "    Number_of_doors=[]\n",
    "    Number_of_passengers=[]\n",
    "    Luggage_capacity=[]\n",
    "    Safety_rating=[]\n",
    "    Classification_of_vehicle=[]\n",
    "    for row in readCSV:\n",
    "        Price.append(row[0]) # Extract the first row of the file\n",
    "        Maintenace_cost.append(row[1])# Extract the second row of the file\n",
    "        Number_of_doors.append(row[2])# Extract the third row of the file\n",
    "        Number_of_passengers.append(row[3])# Extract forth first row of the file\n",
    "        Luggage_capacity.append(row[4])# Extract the fifth row of the file\n",
    "        Safety_rating.append(row[5])# Extract the sixth row of the file\n",
    "        Classification_of_vehicle.append(row[6])# Extract the last row of the file\n",
    "    Price_med = []\n",
    "    for index,x in enumerate(Price):# extract the index & object in Price[]\n",
    "        if x == 'med':\n",
    "            Price_med.append(index)# add the indexes of 'med' in Price[] into Price_med[]\n",
    "    print(Price_med)# Print the result\n",
    "    \n",
    "            \n",
    "        \n",
    "        \n",
    "        \n",
    "        "
   ]
  },
  {
   "cell_type": "markdown",
   "metadata": {},
   "source": [
    "# Q3"
   ]
  },
  {
   "cell_type": "code",
   "execution_count": 4,
   "metadata": {},
   "outputs": [
    {
     "name": "stdout",
     "output_type": "stream",
     "text": [
      "['more', '2', '2', '2', '2']\n"
     ]
    }
   ],
   "source": [
    "import csv\n",
    "# be sure to update the path below to reflect your own environment!!\n",
    "# also be sure that the code is properly indented after you paste it!\n",
    "with open(r'C:\\Users\\guozi\\Documents\\GitHub\\AIM-5001/cars-sample35.txt') as csvfile:\n",
    "    readCSV = csv.reader(csvfile)\n",
    "    Price=[]\n",
    "    Maintenace_cost=[]\n",
    "    Number_of_doors=[]\n",
    "    Number_of_passengers=[]\n",
    "    Luggage_capacity=[]\n",
    "    Safety_rating=[]\n",
    "    Classification_of_vehicle=[]\n",
    "    for row in readCSV:\n",
    "        Price.append(row[0]) # Extract the first row of the file\n",
    "        Maintenace_cost.append(row[1])# Extract the second row of the file\n",
    "        Number_of_doors.append(row[2])# Extract the third row of the file\n",
    "        Number_of_passengers.append(row[3])# Extract forth first row of the file\n",
    "        Luggage_capacity.append(row[4])# Extract the fifth row of the file\n",
    "        Safety_rating.append(row[5])# Extract the sixth row of the file\n",
    "        Classification_of_vehicle.append(row[6])# Extract the last row of the file\n",
    "    Price_med = []\n",
    "    Passenger_of_Pm = []\n",
    "    for index,x in enumerate(Price):# extract the index & object in Price[]\n",
    "        if x == 'med':\n",
    "            Price_med.append(index)# add the indexes of 'med' in Price[] into Price_med[]\n",
    "    for index,x in enumerate(Number_of_passengers):#when the price values are 'med', the indexes are 6,16,20,23,26,29.\n",
    "        if index == 6:#extract the value of Number_of_passengers into the new list when the indexes are 6,16,20,23,26,29. \n",
    "            Passenger_of_Pm.append(x)\n",
    "        elif index == 16:\n",
    "            Passenger_of_Pm.append(x)\n",
    "        elif index == 20:\n",
    "            Passenger_of_Pm.append(x)\n",
    "        elif index == 23:\n",
    "            Passenger_of_Pm.append(x)\n",
    "        elif index == 29:\n",
    "            Passenger_of_Pm.append(x)\n",
    "        else:\n",
    "            0;\n",
    "    print(Passenger_of_Pm)\n",
    "            \n",
    "     \n",
    "           \n",
    "            \n",
    "\n",
    "        "
   ]
  },
  {
   "cell_type": "markdown",
   "metadata": {},
   "source": [
    "# Q4"
   ]
  },
  {
   "cell_type": "code",
   "execution_count": 5,
   "metadata": {},
   "outputs": [
    {
     "name": "stdout",
     "output_type": "stream",
     "text": [
      "[0, 1, 2, 27, 31]\n"
     ]
    }
   ],
   "source": [
    "import csv\n",
    "# be sure to update the path below to reflect your own environment!!\n",
    "# also be sure that the code is properly indented after you paste it!\n",
    "with open(r'C:\\Users\\guozi\\Documents\\GitHub\\AIM-5001/cars-sample35.txt') as csvfile:\n",
    "    readCSV = csv.reader(csvfile)\n",
    "    Price=[]\n",
    "    Maintenace_cost=[]\n",
    "    Number_of_doors=[]\n",
    "    Number_of_passengers=[]\n",
    "    Luggage_capacity=[]\n",
    "    Safety_rating=[]\n",
    "    Classification_of_vehicle=[]\n",
    "    for row in readCSV:\n",
    "        Price.append(row[0]) # Extract the first row of the file\n",
    "        Maintenace_cost.append(row[1])# Extract the second row of the file\n",
    "        Number_of_doors.append(row[2])# Extract the third row of the file\n",
    "        Number_of_passengers.append(row[3])# Extract forth first row of the file\n",
    "        Luggage_capacity.append(row[4])# Extract the fifth row of the file\n",
    "        Safety_rating.append(row[5])# Extract the sixth row of the file\n",
    "        Classification_of_vehicle.append(row[6])# Extract the last row of the file\n",
    "    Phmnl = []\n",
    "    for i,x in enumerate(Price):# Extract the indexes of the price value of 'high' and maintenace value that is not 'low'\n",
    "        if Price[i] == 'high' and Maintenace_cost[i] !='low':\n",
    "               Phmnl.append(i)\n",
    "    print(Phmnl)\n",
    "           \n",
    " \n",
    "    \n",
    "            \n",
    "        \n",
    "        \n",
    "        \n",
    "        "
   ]
  },
  {
   "cell_type": "markdown",
   "metadata": {},
   "source": [
    "# Q5 "
   ]
  },
  {
   "cell_type": "code",
   "execution_count": 6,
   "metadata": {},
   "outputs": [
    {
     "name": "stdout",
     "output_type": "stream",
     "text": [
      "[3, 12, 19, 23]\n"
     ]
    }
   ],
   "source": [
    "import csv\n",
    "# be sure to update the path below to reflect your own environment!!\n",
    "# also be sure that the code is properly indented after you paste it!\n",
    "with open(r'C:\\Users\\guozi\\Documents\\GitHub\\AIM-5001/cars-sample35.txt') as csvfile:\n",
    "    readCSV = csv.reader(csvfile)\n",
    "    Price=[]\n",
    "    Maintenace_cost=[]\n",
    "    Number_of_doors=[]\n",
    "    Number_of_passengers=[]\n",
    "    Luggage_capacity=[]\n",
    "    Safety_rating=[]\n",
    "    Classification_of_vehicle=[]\n",
    "    Nd2lb=[]\n",
    "    for row in readCSV:\n",
    "        Price.append(row[0]) # Extract the first row of the file\n",
    "        Maintenace_cost.append(row[1])# Extract the second row of the file\n",
    "        Number_of_doors.append(row[2])# Extract the third row of the file\n",
    "        Number_of_passengers.append(row[3])# Extract forth first row of the file\n",
    "        Luggage_capacity.append(row[4])# Extract the fifth row of the file\n",
    "        Safety_rating.append(row[5])# Extract the sixth row of the file\n",
    "        Classification_of_vehicle.append(row[6])# Extract the last row of the file\n",
    "    for i,x in enumerate(Number_of_doors):# use the enumerate to get the index value\n",
    "        if Number_of_doors[i] == '2' and Luggage_capacity[i] == 'big':\n",
    "            Nd2lb.append(i)\n",
    "    print(Nd2lb)"
   ]
  },
  {
   "cell_type": "markdown",
   "metadata": {},
   "source": [
    "# Q6"
   ]
  },
  {
   "cell_type": "code",
   "execution_count": 7,
   "metadata": {},
   "outputs": [
    {
     "name": "stdout",
     "output_type": "stream",
     "text": [
      "['2', '4', '4', '2', '3', '2', '4', '3', '2', '4', '2', '4', '2', '3', '5', '2', '2', '5', '3', '2', '4', '2', '5', '2', '4', '3', '3', '3', '5', '5', '3', '5', '5', '4', '3']\n",
      "[2, 4, 4, 2, 3, 2, 4, 3, 2, 4, 2, 4, 2, 3, 5, 2, 2, 5, 3, 2, 4, 2, 5, 2, 4, 3, 3, 3, 5, 5, 3, 5, 5, 4, 3]\n",
      "3.3142857142857145\n"
     ]
    }
   ],
   "source": [
    "import csv\n",
    "# be sure to update the path below to reflect your own environment!!\n",
    "# also be sure that the code is properly indented after you paste it!\n",
    "with open(r'C:\\Users\\guozi\\Documents\\GitHub\\AIM-5001/cars-sample35.txt') as csvfile:\n",
    "    readCSV = csv.reader(csvfile)\n",
    "    Price=[]\n",
    "    Maintenace_cost=[]\n",
    "    Number_of_doors=[]\n",
    "    Number_of_passengers=[]\n",
    "    Luggage_capacity=[]\n",
    "    Safety_rating=[]\n",
    "    Classification_of_vehicle=[]\n",
    "    Nd=[]\n",
    "    Ndav=[]\n",
    "    for row in readCSV:\n",
    "        Price.append(row[0]) # Extract the first row of the file\n",
    "        Maintenace_cost.append(row[1])# Extract the second row of the file\n",
    "        Number_of_doors.append(row[2])# Extract the third row of the file\n",
    "        Number_of_passengers.append(row[3])# Extract forth first row of the file\n",
    "        Luggage_capacity.append(row[4])# Extract the fifth row of the file\n",
    "        Safety_rating.append(row[5])# Extract the sixth row of the file\n",
    "        Classification_of_vehicle.append(row[6])# Extract the last row of the file\n",
    "    for i,x in enumerate(Number_of_doors):\n",
    "        if Number_of_doors[i] == '5more':\n",
    "            Number_of_doors[i] = '5'\n",
    "    print(Number_of_doors)\n",
    "    Nd=[int(x) for x in Number_of_doors]\n",
    "    print(Nd)\n",
    "    from numpy import * \n",
    "    Ndav=mean(Nd)\n",
    "    print(Ndav)"
   ]
  }
 ],
 "metadata": {
  "kernelspec": {
   "display_name": "Python 3",
   "language": "python",
   "name": "python3"
  },
  "language_info": {
   "codemirror_mode": {
    "name": "ipython",
    "version": 3
   },
   "file_extension": ".py",
   "mimetype": "text/x-python",
   "name": "python",
   "nbconvert_exporter": "python",
   "pygments_lexer": "ipython3",
   "version": "3.8.3"
  }
 },
 "nbformat": 4,
 "nbformat_minor": 4
}
