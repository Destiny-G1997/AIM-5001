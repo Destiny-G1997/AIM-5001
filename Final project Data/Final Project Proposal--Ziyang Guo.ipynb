{
 "cells": [
  {
   "cell_type": "markdown",
   "metadata": {},
   "source": [
    "#  Final Project Proposal"
   ]
  },
  {
   "cell_type": "markdown",
   "metadata": {},
   "source": [
    "## Introduction"
   ]
  },
  {
   "cell_type": "markdown",
   "metadata": {},
   "source": [
    "  This project aims to uncover the factors that lead to employee attrition and explore important questions. Attrition is a problem that impacts all businesses, irrespective of geography, industry, and size of the company. Employee attrition leads to significant costs for a business, including the cost of business disruption, hiring new staff, and training new staff.[1] I will use the IBM dataset to show the ranking of factors' lead to attrition. As we all know that the employee attrition led by various factors such as 'Distance From Home','EnvironmentSatisfaction', 'JobSatisfaction'... and so on. This project aims to dig the difference of weight between factors to factors.    "
   ]
  },
  {
   "cell_type": "markdown",
   "metadata": {},
   "source": [
    "## Research question"
   ]
  },
  {
   "cell_type": "markdown",
   "metadata": {},
   "source": [
    "**Q1:** What's the rate of the emplyees that have 'yearsAtCompany' more than 5 years?  \n",
    "**Q2:** What's the rate of the employees that have 'education' higher than 2 and 'YearsAtCompany' over than5?  \n",
    "**Q3** What's the rate of those attrition employees whose 'MaritalStatus' are single?  \n",
    "**Q4** what's the rate of those attrition emplyees whose 'JobSatisfaction' are lower than 3?  \n",
    "**Q5** What's the difference of these 4 rates in 2016 and 2020?  \n",
    "I think these questions' answers are very valuable for HR in IBM or any other company. It can help them understand what's the possible reason that drives employee attrition happening."
   ]
  },
  {
   "cell_type": "markdown",
   "metadata": {},
   "source": [
    "## Data to be used"
   ]
  },
  {
   "cell_type": "markdown",
   "metadata": {},
   "source": [
    "All my data are from 'Kaggle'. I will collect this source by downloading from the 'Kaggle' and An Web API. I choose two data with similar contents in different years from 'Kaggle'. "
   ]
  },
  {
   "cell_type": "markdown",
   "metadata": {},
   "source": [
    "## Approach"
   ]
  },
  {
   "attachments": {},
   "cell_type": "markdown",
   "metadata": {},
   "source": [
    "I will first check is there any the null values in my dataset by using the **isnull()** to check the data's quality and tiding and cleaning the data. This data set is combined with numerical and categorical data. I will separate these two kind of columns by using the **select_dtype()** for further analysis. The dataset I choose has info about samples of employees in IBM including: \"Attrition, BusinessTravel, DailyRate, Department, DistanceFromHome, Education, EducationField, EmployeeCount, EmployeeNumber, EnvironmentSatisfaction, Gender, HourlyRate, JobInvolvement, JobLevel, JobRole, JobSatisfaction, MaritalStatus, MonthlyIncome, MonthlyRate, NumCompaniesWorked, Over18, OverTime, PercentSalaryHike, PerformanceRating, RelationshipSatisfaction, StandardHours, StockOptionLevel, TotalWorkingYears, TrainingTimesLastYear, WorkLifeBalance, YearsAtCompany, YearsInCurrentRole, YearsSinceLastPromotion, YearsWithCurrManager\". I will analysis this dataset from multi-dimension to analysis which factor matters the most on employee attrition. And the top 5 factors that possible to lead to employee attrition. The method that I will use that is not covered in our class is **multi index**. In the last I will parallel compare the top5 factors in 2016 and 2020 to research have the factors changed in these 4 year."
   ]
  },
  {
   "cell_type": "markdown",
   "metadata": {},
   "source": [
    "## Reference\n",
    "[1].https://www.kaggle.com/rohitsahoo/ibm-employee-attrition-analysis-and-prediction"
   ]
  },
  {
   "cell_type": "code",
   "execution_count": null,
   "metadata": {},
   "outputs": [],
   "source": []
  },
  {
   "cell_type": "code",
   "execution_count": null,
   "metadata": {},
   "outputs": [],
   "source": []
  },
  {
   "cell_type": "code",
   "execution_count": null,
   "metadata": {},
   "outputs": [],
   "source": []
  },
  {
   "cell_type": "code",
   "execution_count": null,
   "metadata": {},
   "outputs": [],
   "source": []
  },
  {
   "cell_type": "code",
   "execution_count": null,
   "metadata": {},
   "outputs": [],
   "source": []
  },
  {
   "cell_type": "code",
   "execution_count": null,
   "metadata": {},
   "outputs": [],
   "source": []
  }
 ],
 "metadata": {
  "kernelspec": {
   "display_name": "Python 3",
   "language": "python",
   "name": "python3"
  },
  "language_info": {
   "codemirror_mode": {
    "name": "ipython",
    "version": 3
   },
   "file_extension": ".py",
   "mimetype": "text/x-python",
   "name": "python",
   "nbconvert_exporter": "python",
   "pygments_lexer": "ipython3",
   "version": "3.8.3"
  }
 },
 "nbformat": 4,
 "nbformat_minor": 4
}
