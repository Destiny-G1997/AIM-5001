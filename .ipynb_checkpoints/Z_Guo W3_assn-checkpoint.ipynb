{
 "cells": [
  {
   "cell_type": "markdown",
   "metadata": {},
   "source": [
    "# Q1"
   ]
  },
  {
   "cell_type": "code",
   "execution_count": 8,
   "metadata": {},
   "outputs": [
    {
     "name": "stdout",
     "output_type": "stream",
     "text": [
      "[6, 16, 20, 23, 26, 29]\n"
     ]
    }
   ],
   "source": [
    "import csv\n",
    "# be sure to update the path below to reflect your own environment!!\n",
    "# also be sure that the code is properly indented after you paste it!\n",
    "with open(r'C:\\Users\\guozi\\Documents\\GitHub\\AIM-5001/cars-sample35.txt') as csvfile:\n",
    "    readCSV = csv.reader(csvfile)\n",
    "    Price=[]\n",
    "    Maintenace_cost=[]\n",
    "    Number_of_doors=[]\n",
    "    Number_of_passengers=[]\n",
    "    Luggage_capacity=[]\n",
    "    Safety_rating=[]\n",
    "    Classification_of_vehicle=[]\n",
    "    for row in readCSV:\n",
    "        Price.append(row[0]) # Extract the first row of the file\n",
    "        Maintenace_cost.append(row[1])# Extract the second row of the file\n",
    "        Number_of_doors.append(row[2])# Extract the third row of the file\n",
    "        Number_of_passengers.append(row[3])# Extract forth first row of the file\n",
    "        Luggage_capacity.append(row[4])# Extract the fifth row of the file\n",
    "        Safety_rating.append(row[5])# Extract the sixth row of the file\n",
    "        Classification_of_vehicle.append(row[6])# Extract the last row of the file\n",
    "    Pm = [i for i,x in enumerate(Price) if Price[i] == 'med']\n",
    "    print(Pm)"
   ]
  },
  {
   "cell_type": "markdown",
   "metadata": {},
   "source": [
    "# Q2"
   ]
  },
  {
   "cell_type": "code",
   "execution_count": 9,
   "metadata": {},
   "outputs": [
    {
     "name": "stdout",
     "output_type": "stream",
     "text": [
      "['more', '2', '2', '2', '4', '2']\n"
     ]
    }
   ],
   "source": [
    "    Npm = [x for i,x in enumerate(Number_of_passengers) if Price[i] == 'med']#\"number of passengers\" value for each auto having a \"price\" value of\n",
    "#\"med\" \n",
    "    print(Npm)"
   ]
  },
  {
   "cell_type": "markdown",
   "metadata": {},
   "source": [
    "# Q3"
   ]
  },
  {
   "cell_type": "code",
   "execution_count": 10,
   "metadata": {},
   "outputs": [
    {
     "name": "stdout",
     "output_type": "stream",
     "text": [
      "[0, 1, 2, 27, 31]\n"
     ]
    }
   ],
   "source": [
    "    Phmnl = [i for i,x in enumerate(Price) if Price[i] == 'high' and Maintenace_cost[i] != 'low']#index value for each automobile having a price value of \"high\" and a\n",
    "#maintenance value that is not \"low\"\n",
    "    print(Phmnl)"
   ]
  },
  {
   "cell_type": "markdown",
   "metadata": {},
   "source": [
    "# Q4"
   ]
  },
  {
   "cell_type": "code",
   "execution_count": 11,
   "metadata": {},
   "outputs": [
    {
     "name": "stdout",
     "output_type": "stream",
     "text": [
      "[[1, 2, 3], ['A', 'B', 'C'], [4, 5], ['D', 'E']]\n"
     ]
    }
   ],
   "source": [
    "nlist = [[1,2,3],['A','B','C'],[4,5],['D','E']]# create a list called nlist\n",
    "glist = nlist # give nlist's value to glist\n",
    "print(glist)"
   ]
  },
  {
   "cell_type": "markdown",
   "metadata": {},
   "source": [
    "# Q5"
   ]
  },
  {
   "cell_type": "code",
   "execution_count": 5,
   "metadata": {},
   "outputs": [
    {
     "data": {
      "text/plain": [
       "{'A0': 'med', 'A1': 'small', 'A2': 'big', 'A3': 'big', 'A4': 'med'}"
      ]
     },
     "execution_count": 5,
     "metadata": {},
     "output_type": "execute_result"
    }
   ],
   "source": [
    "    def makedict(list,x):# defined a function \"makedict\" to make a dict\n",
    "        newdict = {}\n",
    "        p = ['A0','A1','A2','A3','A4']# set dict's key\n",
    "        newdict = dict(zip(p,list[0:x]))\n",
    "        return(newdict)   \n",
    "    makedict(Luggage_capacity,5)"
   ]
  },
  {
   "cell_type": "markdown",
   "metadata": {},
   "source": [
    "# Q6"
   ]
  },
  {
   "cell_type": "code",
   "execution_count": 6,
   "metadata": {},
   "outputs": [
    {
     "name": "stdout",
     "output_type": "stream",
     "text": [
      "{'A0': 'med', 'A1': 'small', 'A2': 'big', 'A3': 'big', 'A4': 'med', 'A5': 'small', 'A6': 'med'} {'A0': 'high', 'A1': 'high', 'A2': 'high', 'A3': 'high', 'A4': 'vhigh', 'A5': 'low', 'A6': 'med'}\n"
     ]
    }
   ],
   "source": [
    "    def makedict(list,x):\n",
    "        newdict = {}\n",
    "        p = ['A0','A1','A2','A3','A4','A5','A6','A7']\n",
    "        newdict = dict(zip(p,list[0:x]))\n",
    "        return(newdict)\n",
    "    L = makedict(Luggage_capacity,7)\n",
    "    P = makedict(Price,7)\n",
    "    print(L,P)"
   ]
  },
  {
   "cell_type": "code",
   "execution_count": 7,
   "metadata": {},
   "outputs": [
    {
     "name": "stdout",
     "output_type": "stream",
     "text": [
      "med vhigh\n"
     ]
    }
   ],
   "source": [
    "    print(L['A4'],P['A4'])"
   ]
  },
  {
   "cell_type": "code",
   "execution_count": null,
   "metadata": {},
   "outputs": [],
   "source": []
  }
 ],
 "metadata": {
  "kernelspec": {
   "display_name": "Python 3",
   "language": "python",
   "name": "python3"
  },
  "language_info": {
   "codemirror_mode": {
    "name": "ipython",
    "version": 3
   },
   "file_extension": ".py",
   "mimetype": "text/x-python",
   "name": "python",
   "nbconvert_exporter": "python",
   "pygments_lexer": "ipython3",
   "version": "3.8.3"
  }
 },
 "nbformat": 4,
 "nbformat_minor": 4
}
