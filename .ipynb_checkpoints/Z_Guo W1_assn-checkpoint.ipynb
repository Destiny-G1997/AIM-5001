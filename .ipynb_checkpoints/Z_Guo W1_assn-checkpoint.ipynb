{
 "cells": [
  {
   "cell_type": "code",
   "execution_count": 1,
   "metadata": {},
   "outputs": [],
   "source": [
    "import numpy, wave\n",
    "import matplotlib.pyplot as plt\n",
    "import numpy as np\n",
    "import os\n",
    "import numpy as np\n",
    "import pandas as pd\n",
    "dataset= pd.read_csv(\"spi_global_rankings.csv\")\n",
    "dataset= pd.read_csv(\"spi_global_rankings_intl.csv\")\n",
    "dataset= pd.read_csv(\"spi_matches.csv\")\n",
    "dataset= pd.read_csv(\"spi_matches_latest.csv\")"
   ]
  },
  {
   "cell_type": "markdown",
   "metadata": {},
   "source": [
    "The Github [link](https://github.com/Destiny-G1997/AIM-5001/tree/master/soccer-spi);\n",
    "The original [Link](https://projects.fivethirtyeight.com/soccer-predictions/);\n",
    "I choose this data set because I love sports. And I think the sport is a area that the data analysis can do good to. So that I choose the soccer prediction data set.\n",
    "I want to know which team is more dominant in their own league and the result of parallel comparison by analyzing the data."
   ]
  },
  {
   "cell_type": "code",
   "execution_count": null,
   "metadata": {},
   "outputs": [],
   "source": []
  },
  {
   "cell_type": "code",
   "execution_count": null,
   "metadata": {},
   "outputs": [],
   "source": []
  }
 ],
 "metadata": {
  "kernelspec": {
   "display_name": "Python 3",
   "language": "python",
   "name": "python3"
  },
  "language_info": {
   "codemirror_mode": {
    "name": "ipython",
    "version": 3
   },
   "file_extension": ".py",
   "mimetype": "text/x-python",
   "name": "python",
   "nbconvert_exporter": "python",
   "pygments_lexer": "ipython3",
   "version": "3.8.3"
  }
 },
 "nbformat": 4,
 "nbformat_minor": 4
}
