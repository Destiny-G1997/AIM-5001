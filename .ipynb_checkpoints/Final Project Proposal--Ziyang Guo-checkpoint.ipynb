{
 "cells": [
  {
   "cell_type": "markdown",
   "metadata": {},
   "source": [
    "#  Final Project Proposal"
   ]
  },
  {
   "cell_type": "markdown",
   "metadata": {},
   "source": [
    "## Introduction"
   ]
  },
  {
   "cell_type": "markdown",
   "metadata": {},
   "source": [
    "  This project aims to uncover the factors that lead to employee attrition and explore important questions. Attrition is a problem that impacts all businesses, irrespective of geography, industry, and size of the company. Employee attrition leads to significant costs for a business, including the cost of business disruption, hiring new staff, and training new staff. I will use the IBM dataset to show the ranking of factors' lead to attrition. As we all know that the employee attrition led by various factors such as 'Distance From Home','EnvironmentSatisfaction', 'JobSatisfaction'... and so on. This project aims to dig the difference of weight between factors to factors.    "
   ]
  },
  {
   "cell_type": "markdown",
   "metadata": {},
   "source": [
    "## Research question"
   ]
  },
  {
   "cell_type": "markdown",
   "metadata": {},
   "source": [
    "**Q1:** What's the rate of the emplyees that have 'yearsAtCompany' more than 5 years?  \n",
    "**Q2:** What's the rate of the employees that have 'education' higher than 2 and 'YearsAtCompany' over than5?  \n",
    "**Q3** What's the rate of those attrition employees whose 'MaritalStatus' are single?  \n",
    "**Q4** what's the rate of those attrition emplyees whose 'JobSatisfaction' are lower than 3?  \n",
    "**Q5** What's the difference of these 4 rates in 2016 and 2020?  \n",
    "I think these questions' answers are very valuable for HR in IBM or any other company. It can help them understand what's the possible reason that drives employee attrition happening."
   ]
  },
  {
   "cell_type": "markdown",
   "metadata": {},
   "source": [
    "## Data to be used"
   ]
  },
  {
   "cell_type": "markdown",
   "metadata": {},
   "source": [
    "All my data are from 'Kaggle'. I will collect this source via scraping the data from the 'Kaggle'. I choose two data with similar contents in different years from 'Kaggle'."
   ]
  },
  {
   "cell_type": "markdown",
   "metadata": {},
   "source": [
    "## Approach"
   ]
  },
  {
   "cell_type": "markdown",
   "metadata": {},
   "source": [
    "**1.** I will first check is there any the null values in my data set by using the **isnull()** to check the data's quality.  \n",
    "**2.** I will seperate the numerical and categorical columns by using the **select_dtypes()** for futhur analysis.  \n",
    "**3.** I will do the EDA by using **matplotlib & seaborn**. I will use the **factorplot and heatmap** which are not covered in our class.  \n",
    "**4.** I will finish my research questions by parallel compare the rates in 2016 and 2020 to get my onclusion.  "
   ]
  },
  {
   "cell_type": "code",
   "execution_count": null,
   "metadata": {},
   "outputs": [],
   "source": []
  },
  {
   "cell_type": "code",
   "execution_count": null,
   "metadata": {},
   "outputs": [],
   "source": []
  },
  {
   "cell_type": "code",
   "execution_count": null,
   "metadata": {},
   "outputs": [],
   "source": []
  },
  {
   "cell_type": "code",
   "execution_count": null,
   "metadata": {},
   "outputs": [],
   "source": []
  },
  {
   "cell_type": "code",
   "execution_count": null,
   "metadata": {},
   "outputs": [],
   "source": []
  },
  {
   "cell_type": "code",
   "execution_count": null,
   "metadata": {},
   "outputs": [],
   "source": []
  },
  {
   "cell_type": "code",
   "execution_count": null,
   "metadata": {},
   "outputs": [],
   "source": []
  }
 ],
 "metadata": {
  "kernelspec": {
   "display_name": "Python 3",
   "language": "python",
   "name": "python3"
  },
  "language_info": {
   "codemirror_mode": {
    "name": "ipython",
    "version": 3
   },
   "file_extension": ".py",
   "mimetype": "text/x-python",
   "name": "python",
   "nbconvert_exporter": "python",
   "pygments_lexer": "ipython3",
   "version": "3.8.3"
  }
 },
 "nbformat": 4,
 "nbformat_minor": 4
}
